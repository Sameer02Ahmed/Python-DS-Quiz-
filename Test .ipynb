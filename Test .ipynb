{
 "cells": [
  {
   "cell_type": "code",
   "execution_count": 1,
   "id": "de270fdc",
   "metadata": {},
   "outputs": [
    {
     "name": "stderr",
     "output_type": "stream",
     "text": [
      "C:\\Users\\Yousuf Traders\\anaconda3\\lib\\site-packages\\numpy\\_distributor_init.py:30: UserWarning: loaded more than 1 DLL from .libs:\n",
      "C:\\Users\\Yousuf Traders\\anaconda3\\lib\\site-packages\\numpy\\.libs\\libopenblas.EL2C6PLE4ZYW3ECEVIV3OXXGRN2NRFM2.gfortran-win_amd64.dll\n",
      "C:\\Users\\Yousuf Traders\\anaconda3\\lib\\site-packages\\numpy\\.libs\\libopenblas.XWYDX2IKJW2NMTWSFYNGFUWKQU3LYTCZ.gfortran-win_amd64.dll\n",
      "  warnings.warn(\"loaded more than 1 DLL from .libs:\"\n"
     ]
    },
    {
     "name": "stdout",
     "output_type": "stream",
     "text": [
      "   Student_ID  Math_Score  Science_Score  English_Score  History_Score\n",
      "0           1          85             92             78             88\n",
      "1           2          72             68             91             75\n",
      "2           3          95             88             82             92\n",
      "3           4          78             76             64             70\n",
      "4           5          88             91             85             78\n"
     ]
    }
   ],
   "source": [
    "import pandas as pd\n",
    "\n",
    "data = {\n",
    "    'Student_ID': [1, 2, 3, 4, 5],\n",
    "    'Math_Score': [85, 72, 95, 78, 88],\n",
    "    'Science_Score': [92, 68, 88, 76, 91],\n",
    "    'English_Score': [78, 91, 82, 64, 85],\n",
    "    'History_Score': [88, 75, 92, 70, 78]\n",
    "}\n",
    "\n",
    "df = pd.DataFrame(data)\n",
    "print(df)"
   ]
  },
  {
   "cell_type": "markdown",
   "id": "36919584",
   "metadata": {},
   "source": [
    "Test Questions:\n",
    "\n",
    "Question 1: What does the 'Math_Score' represent in the dataset?\n",
    "\n",
    "Question 2: Calculate the average (mean) of the 'English_Score' for all students.\n",
    "\n",
    "Question 3: Which student has the highest 'Science_Score', and what is that score?\n",
    "\n",
    "Question 4: What is the range of 'History_Score' values in the dataset? (Range = maximum value - minimum value)\n",
    "\n",
    "Question 5: Is there a correlation between 'Math_Score' and 'English_Score'? If so, is it positive or negative?\n",
    "\n",
    "Question 6: If you were to plot a bar chart of the 'Science_Score' for each student, what type of chart would it be?\n",
    "\n",
    "Question 7: What is the median value of 'History_Score'?\n",
    "\n",
    "Question 8: If we want to find out whether there's a difference in average scores between 'Math_Score' and 'Science_Score', what statistical test could we use?\n",
    "\n",
    "Question 9: Create a scatter plot between 'English_Score' and 'History_Score'. What kind of relationship do you observe between the two?\n",
    "\n",
    "Question 10: If you were conducting a survey of students' favorite subjects and you want to visualize the responses, which type of plot or chart would be suitable?"
   ]
  }
 ],
 "metadata": {
  "kernelspec": {
   "display_name": "Python 3 (ipykernel)",
   "language": "python",
   "name": "python3"
  },
  "language_info": {
   "codemirror_mode": {
    "name": "ipython",
    "version": 3
   },
   "file_extension": ".py",
   "mimetype": "text/x-python",
   "name": "python",
   "nbconvert_exporter": "python",
   "pygments_lexer": "ipython3",
   "version": "3.9.12"
  }
 },
 "nbformat": 4,
 "nbformat_minor": 5
}
