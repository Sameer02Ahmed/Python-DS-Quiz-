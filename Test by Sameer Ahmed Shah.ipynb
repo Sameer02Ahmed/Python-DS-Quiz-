{
 "cells": [
  {
   "cell_type": "code",
   "execution_count": 1,
   "metadata": {},
   "outputs": [
    {
     "name": "stdout",
     "output_type": "stream",
     "text": [
      "   English_Score  History_Score  Math_Score  Science_Score  Student_ID\n",
      "0             78             88          85             92           1\n",
      "1             91             75          72             68           2\n",
      "2             82             92          95             88           3\n",
      "3             64             70          78             76           4\n",
      "4             85             78          88             91           5\n"
     ]
    }
   ],
   "source": [
    "import pandas as pd\n",
    "\n",
    "data = {\n",
    "    'Student_ID': [1, 2, 3, 4, 5],\n",
    "    'Math_Score': [85, 72, 95, 78, 88],\n",
    "    'Science_Score': [92, 68, 88, 76, 91],\n",
    "    'English_Score': [78, 91, 82, 64, 85],\n",
    "    'History_Score': [88, 75, 92, 70, 78]\n",
    "}\n",
    "\n",
    "df = pd.DataFrame(data)\n",
    "print(df)"
   ]
  },
  {
   "cell_type": "markdown",
   "metadata": {},
   "source": [
    "Test Questions:\n",
    "\n",
    "Question 1: What does the 'Math_Score' represent in the dataset?\n",
    "\n",
    "Question 2: Calculate the average (mean) of the 'English_Score' for all students.\n",
    "\n",
    "Question 3: Which student has the highest 'Science_Score', and what is that score?\n",
    "\n",
    "Question 4: What is the range of 'History_Score' values in the dataset? (Range = maximum value - minimum value)\n",
    "\n",
    "Question 5: Is there a correlation between 'Math_Score' and 'English_Score'? If so, is it positive or negative?\n",
    "\n",
    "Question 6: If you were to plot a bar chart of the 'Science_Score' for each student, what type of chart would it be?\n",
    "\n",
    "Question 7: What is the median value of 'History_Score'?\n",
    "\n",
    "Question 8: If we want to find out whether there's a difference in average scores between 'Math_Score' and 'Science_Score', what statistical test could we use?\n",
    "\n",
    "Question 9: Create a scatter plot between 'English_Score' and 'History_Score'. What kind of relationship do you observe between the two?\n",
    "\n",
    "Question 10: If you were conducting a survey of students' favorite subjects and you want to visualize the responses, which type of plot or chart would be suitable?"
   ]
  },
  {
   "cell_type": "code",
   "execution_count": 31,
   "metadata": {},
   "outputs": [
    {
     "name": "stdout",
     "output_type": "stream",
     "text": [
      "0    85\n",
      "1    72\n",
      "2    95\n",
      "3    78\n",
      "4    88\n",
      "Name: Math_Score, dtype: int64\n"
     ]
    }
   ],
   "source": [
    "#Question 1: What does the 'Math_Score' represent in the dataset?\n",
    "math_score = df['Math_Score']\n",
    "print(math_score)"
   ]
  },
  {
   "cell_type": "code",
   "execution_count": 3,
   "metadata": {},
   "outputs": [
    {
     "name": "stdout",
     "output_type": "stream",
     "text": [
      "80.0\n"
     ]
    }
   ],
   "source": [
    "#Question 2: Calculate the average (mean) of the 'English_Score' for all students.\n",
    "Average_English_Score= df['English_Score'].mean()\n",
    "print(Average_English_Score)"
   ]
  },
  {
   "cell_type": "code",
   "execution_count": 9,
   "metadata": {},
   "outputs": [
    {
     "name": "stdout",
     "output_type": "stream",
     "text": [
      "92\n",
      "1\n"
     ]
    }
   ],
   "source": [
    "#Question 3: Which student has the highest 'Science_Score', and what is that score?\n",
    "Highest_Science_Score=df['Science_Score'].max()\n",
    "WhichStudent_Highest_Science_Score=df[df['Science_Score']==Highest_Science_Score]['Student_ID'].values[0]\n",
    "print(Highest_Science_Score)\n",
    "print(WhichStudent_Highest_Science_Score)"
   ]
  },
  {
   "cell_type": "code",
   "execution_count": 10,
   "metadata": {},
   "outputs": [
    {
     "name": "stdout",
     "output_type": "stream",
     "text": [
      "22\n"
     ]
    }
   ],
   "source": [
    "#Question 4:What is the range of 'History_Score' values in the dataset? (Range = maximum value - minimum value)\n",
    "max=df['History_Score'].max()\n",
    "min=df['History_Score'].min()\n",
    "range_of_History_Score=max-min\n",
    "print(range_of_History_Score)"
   ]
  },
  {
   "cell_type": "code",
   "execution_count": 12,
   "metadata": {},
   "outputs": [
    {
     "name": "stdout",
     "output_type": "stream",
     "text": [
      "There is positive correlation between Math_Score and English_Score.\n"
     ]
    }
   ],
   "source": [
    "#Question 5: Is there a correlation between 'Math_Score' and 'English_Score'? If so, is it positive or negative?\n",
    "correlation = df['Math_Score'].corr(df['English_Score'])\n",
    "if correlation > 0:\n",
    " print(\"There is positive correlation between Math_Score and English_Score.\")\n",
    "elif correlation < 0:\n",
    " print(\"There is negative correlation between Math_Score and English_Score.\")\n",
    "else:\n",
    " print(\"There is no correlation between Math_Score and English_Score.\")"
   ]
  },
  {
   "cell_type": "code",
   "execution_count": 19,
   "metadata": {},
   "outputs": [
    {
     "data": {
      "image/png": "[encoded data removed]",
      "text/plain": [
       "<Figure size 432x288 with 1 Axes>"
      ]
     },
     "metadata": {
      "needs_background": "light"
     },
     "output_type": "display_data"
    }
   ],
   "source": [
    "#Question 6: If you were to plot a bar chart of the 'Science_Score' for each student, what type of chart would it be?\n",
    "import matplotlib.pyplot as plt\n",
    "\n",
    "x_axis = df['Student_ID']\n",
    "y_axis = df['Science_Score']\n",
    "\n",
    "plt.bar(x_axis, y_axis)\n",
    "plt.title('bar chart')\n",
    "plt.xlabel('Student_ID')\n",
    "plt.ylabel('Science_Score')\n",
    "plt.show()\n",
    "#If I was to plot a bar chart of the 'Science_Score' for each student, it would be a vertical bar chart or a column chart. The x-axis would represent the students, and the y-axis would represent the 'Science_Score' values."
   ]
  },
  {
   "cell_type": "code",
   "execution_count": 17,
   "metadata": {},
   "outputs": [
    {
     "name": "stdout",
     "output_type": "stream",
     "text": [
      "78.0\n"
     ]
    }
   ],
   "source": [
    "#Question 7: What is the median value of 'History_Score'?\n",
    "median_value_of_History_Score=df['History_Score'].median()\n",
    "print(median_value_of_History_Score)"
   ]
  },
  {
   "cell_type": "code",
   "execution_count": 30,
   "metadata": {},
   "outputs": [
    {
     "name": "stdout",
     "output_type": "stream",
     "text": [
      "There is no significant difference in average scores between Math_Score and Science_Score.\n"
     ]
    }
   ],
   "source": [
    "#Question 8:If we want to find out whether there's a difference in average scores between 'Math_Score' and 'Science_Score', what statistical test could we use?\n",
    "from scipy.stats import ttest_ind\n",
    "math_scores = df['Math_Score']\n",
    "science_scores = df['Science_Score']\n",
    "t_statistic, p_value = ttest_ind(math_scores, science_scores)\n",
    "if p_value < 0.05:\n",
    " print(\"There is a significant difference in average scores between Math_Score and Science_Score.\")\n",
    "else:\n",
    " print(\"There is no significant difference in average scores between Math_Score and Science_Score.\")"
   ]
  },
  {
   "cell_type": "markdown",
   "metadata": {},
   "source": [
    "This code calculates the t-statistic and p-value for the independent t-test and then checks if the p-value is less than 0.05 (commonly used significance level). If the p-value is less than 0.05, it indicates a significant difference in average scores between 'Math_Score' and 'Science_Score'. Otherwise, it suggests no significant difference."
   ]
  },
  {
   "cell_type": "code",
   "execution_count": 20,
   "metadata": {},
   "outputs": [
    {
     "data": {
      "image/png": "[encoded data removed]",
      "text/plain": [
       "<Figure size 432x288 with 1 Axes>"
      ]
     },
     "metadata": {
      "needs_background": "light"
     },
     "output_type": "display_data"
    }
   ],
   "source": [
    "#Question 9: Create a scatter plot between 'English_Score' and 'History_Score'. What kind of relationship do you observe between the two?\n",
    "import matplotlib.pyplot as plt\n",
    "plt.scatter(df['English_Score'], df['History_Score'])\n",
    "plt.xlabel('English Score')\n",
    "plt.ylabel('History Score')\n",
    "plt.title('Relationship between English Score and History Score')\n",
    "plt.show()"
   ]
  },
  {
   "cell_type": "markdown",
   "metadata": {},
   "source": [
    "The scatter plot is shows the relationship between 'English_Score' and 'History_Score'. By observing the scatter plot, you can determine the type of relationship between the two variables. If the points form a clear pattern or trend, it suggests a relationship. For example, if the points cluster in a positive slope pattern, it indicates a positive correlation. If the points scatter randomly, it implies no or weak correlation."
   ]
  },
  {
   "cell_type": "markdown",
   "metadata": {},
   "source": [
    "#Question 10: If you were conducting a survey of students' favorite subjects and you want to visualize the responses, which type of plot or chart would be suitable?\n",
    "To visualize the responses to a survey about students' favorite subjects, a bar chart or a pie chart would be suitable.\n",
    "\n",
    "A bar chart would be useful when comparing the frequencies or proportions of different favorite subjects. Each favorite subject category can be represented by a bar, and the height of each bar would correspond to the frequency or proportion of students who chose that subject as their favorite.\n",
    "A pie chart, on the other hand, would be suitable when visualizing the proportions or percentages of each favorite subject category out of the total responses. Each favorite subject category is represented by a slice of the pie, with the size of each slice corresponding to the proportion or percentage of students who chose that subject as their favorite.\n",
    "The choice between a bar chart and a pie chart depends on the specific purpose and the information you want to convey in your visualization.\n"
   ]
  }
 ],
 "metadata": {
  "kernelspec": {
   "display_name": "Python 2",
   "language": "python",
   "name": "python2"
  },
  "language_info": {
   "codemirror_mode": {
    "name": "ipython",
    "version": 2
   },
   "file_extension": ".py",
   "mimetype": "text/x-python",
   "name": "python",
   "nbconvert_exporter": "python",
   "pygments_lexer": "ipython2",
   "version": "2.7.15"
  }
 },
 "nbformat": 4,
 "nbformat_minor": 5
}
